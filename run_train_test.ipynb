{
 "cells": [
  {
   "cell_type": "code",
   "execution_count": 3,
   "id": "e844e785",
   "metadata": {},
   "outputs": [
    {
     "name": "stdout",
     "output_type": "stream",
     "text": [
      "Namespace(batch_size=64, checkpoint=None, class_count=14, crop_size=224, data_path='', epochs=30, isTrained=True, model_name='DENSE-NET-121', model_path=None, model_save_dir='output', resize=256, time_stamp='', train_file='PMS_dataset_train.txt', val_file='PMS_dataset_val.txt')\n",
      "Training NN architecture =  DENSE-NET-121\n",
      "Loss in epoch 0 :::: lossTrain: 0.6749207284457173 with lr: 0.001\n",
      "        auc: 0.7280595383132705\n",
      "Loss in epoch 1 :::: lossTrain: 0.6639014879309035 with lr: 0.001\n",
      "        auc: 0.7641802401171037\n",
      "Loss in epoch 2 :::: lossTrain: 0.6601934076019649 with lr: 0.001\n",
      "        auc: 0.779721992399171\n",
      "Loss in epoch 3 :::: lossTrain: 0.6567850473199383 with lr: 0.001\n",
      "        auc: 0.8022216059933811\n",
      "Loss in epoch 4 :::: lossTrain: 0.6554532904478833 with lr: 0.001\n",
      "        auc: 0.8332784030985199\n",
      "Loss in epoch 5 :::: lossTrain: 0.652870920873286 with lr: 0.001\n",
      "        auc: 0.8021670545877732\n",
      "Loss in epoch 6 :::: lossTrain: 0.6498661238835051 with lr: 0.001\n",
      "        auc: 0.809955972469724\n",
      "Loss in epoch 7 :::: lossTrain: 0.6493175506259737 with lr: 0.001\n",
      "        auc: 0.8531598333454558\n",
      "Loss in epoch 8 :::: lossTrain: 0.6455241054877597 with lr: 0.001\n",
      "        auc: 0.8506115439866168\n",
      "Loss in epoch 9 :::: lossTrain: 0.6442724536056306 with lr: 0.001\n",
      "        auc: 0.8205037140415318\n",
      "Loss in epoch 10 :::: lossTrain: 0.6416249213776548 with lr: 0.001\n",
      "        auc: 0.8107566279957813\n",
      "Loss in epoch 11 :::: lossTrain: 0.6406318508814969 with lr: 0.001\n",
      "        auc: 0.8677875654616867\n",
      "Loss in epoch 12 :::: lossTrain: 0.6391022535751789 with lr: 0.001\n",
      "        auc: 0.8738149275375495\n",
      "Loss in epoch 13 :::: lossTrain: 0.6346074238128981 with lr: 0.001\n",
      "        auc: 0.8746957054405935\n",
      "Loss in epoch 14 :::: lossTrain: 0.6347815701556405 with lr: 0.001\n",
      "        auc: 0.8678986571262319\n",
      "Loss in epoch 15 :::: lossTrain: 0.6346593376321713 with lr: 0.001\n",
      "        auc: 0.856882966778194\n",
      "Loss in epoch 16 :::: lossTrain: 0.6341171429017792 with lr: 0.001\n",
      "        auc: 0.869984396025021\n",
      "Loss in epoch 17 :::: lossTrain: 0.6329760239316893 with lr: 0.001\n",
      "        auc: 0.9036454545041277\n",
      "Loss in epoch 18 :::: lossTrain: 0.6321741408956416 with lr: 0.001\n",
      "        auc: 0.8892265519874896\n",
      "Loss in epoch 19 :::: lossTrain: 0.6284915917763139 with lr: 0.001\n",
      "        auc: 0.9167511455795179\n",
      "Loss in epoch 20 :::: lossTrain: 0.6277222608457369 with lr: 0.001\n",
      "        auc: 0.8865208590937192\n",
      "Loss in epoch 21 :::: lossTrain: 0.62620488149542 with lr: 0.001\n",
      "        auc: 0.9330293418372912\n",
      "Loss in epoch 22 :::: lossTrain: 0.6265498902804341 with lr: 0.001\n",
      "        auc: 0.922967732843583\n",
      "Loss in epoch 23 :::: lossTrain: 0.6247559418917367 with lr: 0.001\n",
      "        auc: 0.9326324235371131\n",
      "Loss in epoch 24 :::: lossTrain: 0.6235653605301732 with lr: 0.001\n",
      "        auc: 0.9164184388296904\n",
      "Loss in epoch 25 :::: lossTrain: 0.6229594323296401 with lr: 0.001\n",
      "        auc: 0.8991361557624467\n",
      "Loss in epoch 26 :::: lossTrain: 0.6217522763940285 with lr: 0.001\n",
      "        auc: 0.9490711486707641\n",
      "Loss in epoch 27 :::: lossTrain: 0.6216118257689941 with lr: 0.001\n",
      "        auc: 0.9251679728697676\n",
      "Loss in epoch 28 :::: lossTrain: 0.6219611249262244 with lr: 0.001\n",
      "        auc: 0.9322159008255446\n",
      "Loss in epoch 29 :::: lossTrain: 0.6202605602468952 with lr: 0.001\n",
      "        auc: 0.9155231707095319\n"
     ]
    }
   ],
   "source": [
    "!python train.py --train_file PMS_dataset_train.txt \\\n",
    "    --val_file PMS_dataset_val.txt \\\n",
    "    --epochs 30 --batch_size 64"
   ]
  },
  {
   "cell_type": "code",
   "execution_count": 2,
   "id": "5c8244b9",
   "metadata": {},
   "outputs": [
    {
     "name": "stdout",
     "output_type": "stream",
     "text": [
      "Namespace(batch_size=64, checkpoint='output/epoch-1.pth.tar', class_count=14, crop_size=224, test_file='PMS_dataset_test.txt', time_stamp='')\n",
      "(1, 2871)\n",
      "(1, 2871)\n",
      "auc:        0.7570147019706847\n",
      "mean_auc:   0.7571519771202425\n",
      "b_p_t_p:    0.7363918396909704, 0.7776681672176501\n"
     ]
    }
   ],
   "source": [
    "!python test.py --test_file PMS_dataset_test.txt \\\n",
    "    --checkpoint output/epoch-1.pth.tar \\\n",
    "    --batch_size 64 "
   ]
  },
  {
   "cell_type": "code",
   "execution_count": null,
   "id": "727541a4",
   "metadata": {},
   "outputs": [],
   "source": [
    "!python train.py --train_file others_dataset_train.txt \\\n",
    "    --val_file others_dataset_val.txt \\\n",
    "    --epochs 30 --batch_size 64"
   ]
  },
  {
   "cell_type": "code",
   "execution_count": null,
   "id": "5455d91c",
   "metadata": {},
   "outputs": [],
   "source": [
    "!python test.py --test_file others_dataset_test.txt \\\n",
    "    --checkpoint output/epoch-1.pth.tar \\\n",
    "    --batch_size 64 "
   ]
  }
 ],
 "metadata": {
  "kernelspec": {
   "display_name": "Python 3",
   "language": "python",
   "name": "python3"
  },
  "language_info": {
   "codemirror_mode": {
    "name": "ipython",
    "version": 3
   },
   "file_extension": ".py",
   "mimetype": "text/x-python",
   "name": "python",
   "nbconvert_exporter": "python",
   "pygments_lexer": "ipython3",
   "version": "3.8.8"
  }
 },
 "nbformat": 4,
 "nbformat_minor": 5
}
