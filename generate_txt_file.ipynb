{
 "cells": [
  {
   "cell_type": "code",
   "execution_count": 1,
   "metadata": {
    "colab": {
     "base_uri": "https://localhost:8080/"
    },
    "id": "rZdR33X9vrj5",
    "outputId": "87a2a2d5-4e1e-443d-c530-bcf9d4de7acb"
   },
   "outputs": [],
   "source": [
    "import os\n",
    "import pydicom\n",
    "import matplotlib.pyplot as plt \n",
    "import pandas as pd\n",
    "from sklearn.model_selection import train_test_split"
   ]
  },
  {
   "cell_type": "code",
   "execution_count": 2,
   "metadata": {
    "colab": {
     "base_uri": "https://localhost:8080/"
    },
    "id": "rZdR33X9vrj5",
    "outputId": "87a2a2d5-4e1e-443d-c530-bcf9d4de7acb"
   },
   "outputs": [
    {
     "data": {
      "text/plain": [
       "(512, 512)"
      ]
     },
     "execution_count": 2,
     "metadata": {},
     "output_type": "execute_result"
    }
   ],
   "source": [
    "file=r\"COVID-19-AR/manifest-1594658036421/COVID-19-AR/COVID-19-AR-16406488/02-14-2012-NA-CT PE CHEST-63916/2.000000-locator-16446/1-1.dcm\"\n",
    "# file=r\"COVID-19-AR/manifest-1594658036421/COVID-19-AR/COVID-19-AR-16445151/03-08-2012-NA-XR CHEST AP PORTABLE-51919/1.000000-AP-45634/1-1.dcm\"\n",
    "# file=r\"COVID-19-AR/manifest-1594658036421/COVID-19-AR/COVID-19-AR-16434395/03-03-2012-NA-XR CHEST AP PORTABLE-54576/1.000000-AP-50475/1-1.dcm\"\n",
    "# file=r\"COVID-19-AR/manifest-1594658036421/COVID-19-AR/COVID-19-AR-16406545/01-17-2012-NA-XR CHEST AP PORTABLE-43479/1.000000-AP-36614/1-1.dcm\"\n",
    "\n",
    "ds = pydicom.dcmread(file)\n",
    "ds.pixel_array.shape"
   ]
  },
  {
   "cell_type": "code",
   "execution_count": 3,
   "metadata": {
    "colab": {
     "base_uri": "https://localhost:8080/"
    },
    "id": "rZdR33X9vrj5",
    "outputId": "87a2a2d5-4e1e-443d-c530-bcf9d4de7acb"
   },
   "outputs": [],
   "source": [
    "# plt.figure(figsize=(10, 10))\n",
    "# plt.imshow(ds.pixel_array, cmap=plt.cm.bone)\n",
    "# plt.show()"
   ]
  },
  {
   "cell_type": "code",
   "execution_count": 4,
   "metadata": {
    "colab": {
     "base_uri": "https://localhost:8080/"
    },
    "id": "Kdxgzzd0tUgr",
    "outputId": "ab6ba3c1-b22c-477c-b24d-f183d1602a15"
   },
   "outputs": [],
   "source": [
    "metadata=pd.read_csv('COVID-19-AR/manifest-1594658036421/metadata.csv')"
   ]
  },
  {
   "cell_type": "code",
   "execution_count": 5,
   "metadata": {
    "colab": {
     "base_uri": "https://localhost:8080/"
    },
    "id": "Kdxgzzd0tUgr",
    "outputId": "ab6ba3c1-b22c-477c-b24d-f183d1602a15"
   },
   "outputs": [],
   "source": [
    "clinical=pd.read_excel(r'COVID-19 Clinical.xlsx')"
   ]
  },
  {
   "cell_type": "code",
   "execution_count": 6,
   "metadata": {
    "colab": {
     "base_uri": "https://localhost:8080/"
    },
    "id": "Kdxgzzd0tUgr",
    "outputId": "ab6ba3c1-b22c-477c-b24d-f183d1602a15"
   },
   "outputs": [],
   "source": [
    "SubjectIDtoICUAdmit = dict(zip(clinical['PATIENT_ID'], clinical['ICU Admit']))"
   ]
  },
  {
   "cell_type": "code",
   "execution_count": 7,
   "metadata": {},
   "outputs": [],
   "source": [
    "def readfiles(path):\n",
    "    images = []\n",
    "    for dirpath, dirnames, filenames in os.walk(path):\n",
    "        for f in filenames:\n",
    "            images.append(os.path.join(dirpath, f))\n",
    "            \n",
    "    return images"
   ]
  },
  {
   "cell_type": "code",
   "execution_count": 8,
   "metadata": {},
   "outputs": [],
   "source": [
    "dataDic_PMS={}\n",
    "dataDic_others={}\n",
    "for index, row in metadata.iterrows():\n",
    "    SOPClassName = row['SOP Class Name']\n",
    "    SubjectID = row['Subject ID']\n",
    "    label = SubjectIDtoICUAdmit[SubjectID] # ICU Admit 'Y' or 'N'\n",
    "    Manufacturer = row['Manufacturer']\n",
    "    nums = row['Number of Images']\n",
    "    path = 'COVID-19-AR/manifest-1594658036421/' + os.path.relpath(row['File Location'])\n",
    "    path = path.replace('\\\\','/') # windows decomment\n",
    "    files1 = readfiles(path)\n",
    "    files =[f for f in files1 if f.endswith('.dcm')]\n",
    "    \n",
    "    if len(files) != nums:\n",
    "        print(\"len(files)!=nums\")\n",
    "        print('csv_nums: ', nums,', actual_nums: ', len(files))\n",
    "        print(files)\n",
    "        \n",
    "    if Manufacturer == \"Philips\":\n",
    "        l = dataDic_PMS.get(label, [])\n",
    "        l += files\n",
    "        dataDic_PMS[label]=l\n",
    "        \n",
    "    else:\n",
    "        l=dataDic_others.get(label,[])\n",
    "        l+=files\n",
    "        dataDic_others[label]=l"
   ]
  },
  {
   "cell_type": "code",
   "execution_count": 9,
   "metadata": {},
   "outputs": [
    {
     "name": "stdout",
     "output_type": "stream",
     "text": [
      "labels:  ['N', 'Y']\n"
     ]
    }
   ],
   "source": [
    "dataPaths=[]\n",
    "num_labels=[]\n",
    "labels=list(dataDic_PMS.keys())\n",
    "print(\"labels: \",labels)"
   ]
  },
  {
   "cell_type": "code",
   "execution_count": 10,
   "metadata": {},
   "outputs": [],
   "source": [
    "for k in dataDic_PMS.keys():\n",
    "    dataPaths += dataDic_PMS[k]\n",
    "    lb = labels.index(k)\n",
    "    num_labels += [lb for _ in range(len(dataDic_PMS[k]))]"
   ]
  },
  {
   "cell_type": "code",
   "execution_count": 11,
   "metadata": {},
   "outputs": [],
   "source": [
    "train_str_list = []\n",
    "for i in range(len(dataPaths)):\n",
    "    train_str_list.append('%s------%d' % (dataPaths[i], num_labels[i]))"
   ]
  },
  {
   "cell_type": "code",
   "execution_count": 12,
   "metadata": {},
   "outputs": [],
   "source": [
    "with open('PMS_dataset_all.txt','w', encoding='utf-8') as f:\n",
    "    f.write('\\n'.join(train_str_list))"
   ]
  },
  {
   "cell_type": "markdown",
   "metadata": {},
   "source": [
    "## -----------------------------------------------------------------------------------"
   ]
  },
  {
   "cell_type": "code",
   "execution_count": 13,
   "metadata": {},
   "outputs": [
    {
     "name": "stdout",
     "output_type": "stream",
     "text": [
      "labels:  ['N', 'Y']\n"
     ]
    }
   ],
   "source": [
    "dataPaths = []\n",
    "num_labels = []\n",
    "labels=list(dataDic_others.keys())\n",
    "print(\"labels: \",labels)"
   ]
  },
  {
   "cell_type": "code",
   "execution_count": 14,
   "metadata": {},
   "outputs": [],
   "source": [
    "for k in dataDic_others.keys():\n",
    "    dataPaths += dataDic_others[k]\n",
    "    lb = labels.index(k)\n",
    "    num_labels += [lb for _ in range(len(dataDic_others[k]))]"
   ]
  },
  {
   "cell_type": "code",
   "execution_count": 15,
   "metadata": {
    "colab": {
     "base_uri": "https://localhost:8080/"
    },
    "id": "Kdxgzzd0tUgr",
    "outputId": "ab6ba3c1-b22c-477c-b24d-f183d1602a15"
   },
   "outputs": [],
   "source": [
    "train_str_list=[]\n",
    "for i in range(len(dataPaths)):\n",
    "    train_str_list.append('%s------%d'%(dataPaths[i], num_labels[i]))"
   ]
  },
  {
   "cell_type": "code",
   "execution_count": 16,
   "metadata": {
    "colab": {
     "base_uri": "https://localhost:8080/"
    },
    "id": "Kdxgzzd0tUgr",
    "outputId": "ab6ba3c1-b22c-477c-b24d-f183d1602a15"
   },
   "outputs": [],
   "source": [
    "with open('others_dataset_all.txt','w',encoding='utf-8') as f:\n",
    "    f.write('\\n'.join(train_str_list))"
   ]
  },
  {
   "cell_type": "markdown",
   "metadata": {},
   "source": [
    "## ------------------------------------------------------------------------"
   ]
  },
  {
   "cell_type": "code",
   "execution_count": 17,
   "metadata": {
    "colab": {
     "base_uri": "https://localhost:8080/"
    },
    "id": "Kdxgzzd0tUgr",
    "outputId": "ab6ba3c1-b22c-477c-b24d-f183d1602a15"
   },
   "outputs": [
    {
     "name": "stdout",
     "output_type": "stream",
     "text": [
      "labels:  ['N', 'Y']\n"
     ]
    }
   ],
   "source": [
    "dataPaths=[]\n",
    "num_labels=[]\n",
    "labels=list(dataDic_PMS.keys())\n",
    "print(\"labels: \",labels)"
   ]
  },
  {
   "cell_type": "code",
   "execution_count": 18,
   "metadata": {
    "colab": {
     "base_uri": "https://localhost:8080/"
    },
    "id": "Kdxgzzd0tUgr",
    "outputId": "ab6ba3c1-b22c-477c-b24d-f183d1602a15"
   },
   "outputs": [],
   "source": [
    "for k in dataDic_PMS.keys():\n",
    "    dataPaths += dataDic_PMS[k]\n",
    "    lb = labels.index(k)\n",
    "    num_labels += [lb for _ in range(len(dataDic_PMS[k]))]"
   ]
  },
  {
   "cell_type": "code",
   "execution_count": 19,
   "metadata": {
    "colab": {
     "base_uri": "https://localhost:8080/"
    },
    "id": "Kdxgzzd0tUgr",
    "outputId": "ab6ba3c1-b22c-477c-b24d-f183d1602a15"
   },
   "outputs": [],
   "source": [
    "x_train, x_test, y_train, y_test  = train_test_split(dataPaths, num_labels, test_size=0.2)\n",
    "x_val, x_test, y_val, y_test  = train_test_split(x_test, y_test, test_size=0.5)"
   ]
  },
  {
   "cell_type": "code",
   "execution_count": 20,
   "metadata": {
    "colab": {
     "base_uri": "https://localhost:8080/"
    },
    "id": "Kdxgzzd0tUgr",
    "outputId": "ab6ba3c1-b22c-477c-b24d-f183d1602a15"
   },
   "outputs": [
    {
     "name": "stdout",
     "output_type": "stream",
     "text": [
      "PMS\n",
      "all:    [20197, 8513]\n",
      "train:  [16189, 6779]\n",
      "test:    [2024, 847]\n",
      "val:    [1984, 887]\n"
     ]
    }
   ],
   "source": [
    "print(\"PMS\")\n",
    "print(\"all:   \", [num_labels.count(v) for v in range(len(labels))])\n",
    "print(\"train: \", [y_train.count(v) for v in range(len(labels))])\n",
    "print(\"test:   \", [y_test.count(v) for v in range(len(labels))])\n",
    "print(\"val:   \", [y_val.count(v) for v in range(len(labels))])"
   ]
  },
  {
   "cell_type": "code",
   "execution_count": 21,
   "metadata": {
    "colab": {
     "base_uri": "https://localhost:8080/"
    },
    "id": "Kdxgzzd0tUgr",
    "outputId": "ab6ba3c1-b22c-477c-b24d-f183d1602a15"
   },
   "outputs": [],
   "source": [
    "train_str_list=[]\n",
    "for i in range(len(x_train)):\n",
    "    train_str_list.append('%s------%d'%(x_train[i], y_train[i]))\n",
    "\n",
    "with open('PMS_dataset_train.txt','w',encoding='utf-8') as f:\n",
    "    f.write('\\n'.join(train_str_list))"
   ]
  },
  {
   "cell_type": "code",
   "execution_count": 22,
   "metadata": {
    "colab": {
     "base_uri": "https://localhost:8080/"
    },
    "id": "Kdxgzzd0tUgr",
    "outputId": "ab6ba3c1-b22c-477c-b24d-f183d1602a15"
   },
   "outputs": [],
   "source": [
    "test_str_list=[]\n",
    "for i in range(len(x_test)):\n",
    "    test_str_list.append('%s------%d'%(x_test[i], y_test[i]))\n",
    "\n",
    "with open('PMS_dataset_test.txt','w',encoding='utf-8') as f:\n",
    "    f.write('\\n'.join(test_str_list))"
   ]
  },
  {
   "cell_type": "code",
   "execution_count": 23,
   "metadata": {},
   "outputs": [],
   "source": [
    "val_str_list=[]\n",
    "for i in range(len(x_val)):\n",
    "    val_str_list.append('%s------%d'%(x_val[i], y_val[i]))\n",
    "\n",
    "with open('PMS_dataset_val.txt','w',encoding='utf-8') as f:\n",
    "    f.write('\\n'.join(val_str_list))"
   ]
  },
  {
   "cell_type": "markdown",
   "metadata": {},
   "source": [
    "## ----------------------------------------------------------------"
   ]
  },
  {
   "cell_type": "code",
   "execution_count": 24,
   "metadata": {
    "colab": {
     "base_uri": "https://localhost:8080/"
    },
    "id": "Kdxgzzd0tUgr",
    "outputId": "ab6ba3c1-b22c-477c-b24d-f183d1602a15"
   },
   "outputs": [
    {
     "name": "stdout",
     "output_type": "stream",
     "text": [
      "labels:  ['N', 'Y']\n"
     ]
    }
   ],
   "source": [
    "dataPaths=[]\n",
    "num_labels=[]\n",
    "labels=list(dataDic_others.keys())\n",
    "print(\"labels: \",labels)"
   ]
  },
  {
   "cell_type": "code",
   "execution_count": 25,
   "metadata": {
    "colab": {
     "base_uri": "https://localhost:8080/"
    },
    "id": "Kdxgzzd0tUgr",
    "outputId": "ab6ba3c1-b22c-477c-b24d-f183d1602a15"
   },
   "outputs": [],
   "source": [
    "for k in dataDic_others.keys():\n",
    "    dataPaths += dataDic_others[k]\n",
    "    lb = labels.index(k)\n",
    "    num_labels += [lb for _ in range(len(dataDic_others[k]))]"
   ]
  },
  {
   "cell_type": "code",
   "execution_count": 26,
   "metadata": {
    "colab": {
     "base_uri": "https://localhost:8080/"
    },
    "id": "Kdxgzzd0tUgr",
    "outputId": "ab6ba3c1-b22c-477c-b24d-f183d1602a15"
   },
   "outputs": [],
   "source": [
    "x_train, x_test, y_train, y_test  = train_test_split(dataPaths, num_labels, test_size=0.2)\n",
    "x_val, x_test, y_val, y_test  = train_test_split(x_test, y_test, test_size=0.5)"
   ]
  },
  {
   "cell_type": "code",
   "execution_count": 27,
   "metadata": {
    "colab": {
     "base_uri": "https://localhost:8080/"
    },
    "id": "Kdxgzzd0tUgr",
    "outputId": "ab6ba3c1-b22c-477c-b24d-f183d1602a15"
   },
   "outputs": [
    {
     "name": "stdout",
     "output_type": "stream",
     "text": [
      "others\n",
      "all:    [2090, 1135]\n",
      "train:  [1668, 912]\n",
      "test:    [213, 110]\n",
      "val:    [209, 113]\n"
     ]
    }
   ],
   "source": [
    "print(\"others\")\n",
    "print(\"all:   \", [num_labels.count(v) for v in range(len(labels))])\n",
    "print(\"train: \", [y_train.count(v) for v in range(len(labels))])\n",
    "print(\"test:   \", [y_test.count(v) for v in range(len(labels))])\n",
    "print(\"val:   \", [y_val.count(v) for v in range(len(labels))])"
   ]
  },
  {
   "cell_type": "code",
   "execution_count": 28,
   "metadata": {
    "colab": {
     "base_uri": "https://localhost:8080/"
    },
    "id": "Kdxgzzd0tUgr",
    "outputId": "ab6ba3c1-b22c-477c-b24d-f183d1602a15"
   },
   "outputs": [],
   "source": [
    "train_str_list=[]\n",
    "for i in range(len(x_train)):\n",
    "    train_str_list.append('%s------%d'%(x_train[i], y_train[i]))\n",
    "\n",
    "with open('others_dataset_train.txt','w',encoding='utf-8') as f:\n",
    "    f.write('\\n'.join(train_str_list))"
   ]
  },
  {
   "cell_type": "code",
   "execution_count": 29,
   "metadata": {
    "colab": {
     "base_uri": "https://localhost:8080/"
    },
    "id": "Kdxgzzd0tUgr",
    "outputId": "ab6ba3c1-b22c-477c-b24d-f183d1602a15"
   },
   "outputs": [],
   "source": [
    "test_str_list=[]\n",
    "for i in range(len(x_test)):\n",
    "    test_str_list.append('%s------%d'%(x_test[i], y_test[i]))\n",
    "\n",
    "with open('others_dataset_test.txt','w',encoding='utf-8') as f:\n",
    "    f.write('\\n'.join(test_str_list))"
   ]
  },
  {
   "cell_type": "code",
   "execution_count": 30,
   "metadata": {},
   "outputs": [],
   "source": [
    "val_str_list=[]\n",
    "for i in range(len(x_val)):\n",
    "    val_str_list.append('%s------%d'%(x_val[i], y_val[i]))\n",
    "\n",
    "with open('others_dataset_val.txt','w',encoding='utf-8') as f:\n",
    "    f.write('\\n'.join(val_str_list))"
   ]
  },
  {
   "cell_type": "markdown",
   "metadata": {},
   "source": [
    "# ---------------------------------------------------------------"
   ]
  },
  {
   "cell_type": "code",
   "execution_count": 31,
   "metadata": {
    "colab": {
     "base_uri": "https://localhost:8080/"
    },
    "id": "Y5n-p-x1pH7H",
    "outputId": "af204c2d-40f1-4a09-e9d8-c2c2e4f331cb"
   },
   "outputs": [],
   "source": [
    "metadata=pd.read_csv('COVID-19-AR/manifest-1594658036421/metadata.csv')\n",
    "clinical=pd.read_excel('COVID-19 Clinical.xlsx')\n",
    "SubjectIDtoICUAdmit=dict(zip(clinical['PATIENT_ID'], clinical['ICU Admit']))"
   ]
  },
  {
   "cell_type": "code",
   "execution_count": 32,
   "metadata": {
    "colab": {
     "base_uri": "https://localhost:8080/"
    },
    "id": "Y5n-p-x1pH7H",
    "outputId": "af204c2d-40f1-4a09-e9d8-c2c2e4f331cb"
   },
   "outputs": [],
   "source": [
    "dataDic={}\n",
    "for index, row in metadata.iterrows():\n",
    "    SOPClassName = row['SOP Class Name']\n",
    "    \n",
    "    if 'x-ray' in SOPClassName.lower(): ###################################### main diff from before\n",
    "        \n",
    "        SubjectID = row['Subject ID']\n",
    "        label = SubjectIDtoICUAdmit[SubjectID]\n",
    "        nums = row['Number of Images']\n",
    "        path = 'COVID-19-AR/manifest-1594658036421/' + os.path.relpath(row['File Location'])\n",
    "        path = path.replace('\\\\','/')  # windows decomment\n",
    "        files = readfiles(path)\n",
    "        files = [f for f in files if f.endswith('.dcm')]\n",
    "        if len(files) != nums:\n",
    "            print(\"len(files) != nums\")\n",
    "            print('csv_nums: ',nums,', actual_nums: ',len(files))\n",
    "            print(files)\n",
    "\n",
    "        l = dataDic.get(label,[])\n",
    "        l += files\n",
    "        dataDic[label]=l"
   ]
  },
  {
   "cell_type": "code",
   "execution_count": 33,
   "metadata": {
    "colab": {
     "base_uri": "https://localhost:8080/"
    },
    "id": "AM7F5rRuuL9I",
    "outputId": "53048716-8d76-4fb4-9c73-8ea8efa6814a"
   },
   "outputs": [
    {
     "name": "stdout",
     "output_type": "stream",
     "text": [
      "N: 134\n",
      "Y: 102\n"
     ]
    }
   ],
   "source": [
    "# x-ray\n",
    "for k in dataDic.keys():\n",
    "    print(\"%s: %d\"%(k, len(dataDic[k])))"
   ]
  },
  {
   "cell_type": "code",
   "execution_count": 34,
   "metadata": {
    "colab": {
     "base_uri": "https://localhost:8080/"
    },
    "id": "mPcgWqQQAGGk",
    "outputId": "83caad0a-bdae-4063-def8-21e56d063d56"
   },
   "outputs": [
    {
     "name": "stdout",
     "output_type": "stream",
     "text": [
      "labels:  ['N', 'Y']\n"
     ]
    }
   ],
   "source": [
    "dataPaths=[]\n",
    "num_labels=[]\n",
    "labels=list(dataDic.keys())\n",
    "print(\"labels: \",labels)"
   ]
  },
  {
   "cell_type": "code",
   "execution_count": 35,
   "metadata": {
    "colab": {
     "base_uri": "https://localhost:8080/"
    },
    "id": "mPcgWqQQAGGk",
    "outputId": "83caad0a-bdae-4063-def8-21e56d063d56"
   },
   "outputs": [],
   "source": [
    "for k in dataDic.keys():\n",
    "    dataPaths += dataDic[k]\n",
    "    lb = labels.index(k)\n",
    "    num_labels += [lb for _ in range(len(dataDic[k]))]"
   ]
  },
  {
   "cell_type": "code",
   "execution_count": 36,
   "metadata": {
    "colab": {
     "base_uri": "https://localhost:8080/"
    },
    "id": "mPcgWqQQAGGk",
    "outputId": "83caad0a-bdae-4063-def8-21e56d063d56"
   },
   "outputs": [],
   "source": [
    "x_train, x_test, y_train, y_test  = train_test_split(dataPaths, num_labels, test_size=0.25)\n",
    "x_val, x_test, y_val, y_test  = train_test_split(x_test, y_test, test_size=0.5)"
   ]
  },
  {
   "cell_type": "code",
   "execution_count": 37,
   "metadata": {
    "colab": {
     "base_uri": "https://localhost:8080/"
    },
    "id": "mPcgWqQQAGGk",
    "outputId": "83caad0a-bdae-4063-def8-21e56d063d56"
   },
   "outputs": [
    {
     "name": "stdout",
     "output_type": "stream",
     "text": [
      "all:    [134, 102]\n",
      "train:  [98, 79]\n",
      "test:    [19, 11]\n",
      "val:    [17, 12]\n"
     ]
    }
   ],
   "source": [
    "print(\"all:   \",[num_labels.count(v) for v in range(len(labels))])\n",
    "print(\"train: \",[y_train.count(v) for v in range(len(labels))])\n",
    "print(\"test:   \",[y_test.count(v) for v in range(len(labels))])\n",
    "print(\"val:   \",[y_val.count(v) for v in range(len(labels))])"
   ]
  },
  {
   "cell_type": "code",
   "execution_count": 38,
   "metadata": {
    "colab": {
     "base_uri": "https://localhost:8080/"
    },
    "id": "mPcgWqQQAGGk",
    "outputId": "83caad0a-bdae-4063-def8-21e56d063d56"
   },
   "outputs": [],
   "source": [
    "train_str_list=[]\n",
    "for i in range(len(x_train)):\n",
    "    train_str_list.append('%s------%d'%(x_train[i], y_train[i]))"
   ]
  },
  {
   "cell_type": "code",
   "execution_count": 39,
   "metadata": {
    "colab": {
     "base_uri": "https://localhost:8080/"
    },
    "id": "mPcgWqQQAGGk",
    "outputId": "83caad0a-bdae-4063-def8-21e56d063d56"
   },
   "outputs": [],
   "source": [
    "with open('x_ray_train.txt','w',encoding='utf-8') as f:\n",
    "    f.write('\\n'.join(train_str_list))"
   ]
  },
  {
   "cell_type": "code",
   "execution_count": 40,
   "metadata": {
    "colab": {
     "base_uri": "https://localhost:8080/"
    },
    "id": "mPcgWqQQAGGk",
    "outputId": "83caad0a-bdae-4063-def8-21e56d063d56"
   },
   "outputs": [],
   "source": [
    "test_str_list=[]\n",
    "for i in range(len(x_test)):\n",
    "    test_str_list.append('%s------%d'%(x_test[i], y_test[i]))"
   ]
  },
  {
   "cell_type": "code",
   "execution_count": 41,
   "metadata": {
    "colab": {
     "base_uri": "https://localhost:8080/"
    },
    "id": "mPcgWqQQAGGk",
    "outputId": "83caad0a-bdae-4063-def8-21e56d063d56"
   },
   "outputs": [],
   "source": [
    "with open('x_ray_test.txt','w',encoding='utf-8') as f:\n",
    "    f.write('\\n'.join(test_str_list))"
   ]
  },
  {
   "cell_type": "code",
   "execution_count": 42,
   "metadata": {},
   "outputs": [],
   "source": [
    "val_str_list=[]\n",
    "for i in range(len(x_val)):\n",
    "    val_str_list.append('%s------%d'%(x_val[i], y_val[i]))\n",
    "\n",
    "with open('x_ray__val.txt','w',encoding='utf-8') as f:\n",
    "    f.write('\\n'.join(val_str_list))"
   ]
  },
  {
   "cell_type": "code",
   "execution_count": 43,
   "metadata": {
    "colab": {
     "base_uri": "https://localhost:8080/"
    },
    "id": "ix_69H-nsd2-",
    "outputId": "3cc4ca03-4487-4258-d406-02162e5fba00"
   },
   "outputs": [
    {
     "name": "stdout",
     "output_type": "stream",
     "text": [
      "N: 134\n",
      "Y: 102\n"
     ]
    }
   ],
   "source": [
    "# all\n",
    "for k in dataDic.keys():\n",
    "  print(\"%s: %d\"%(k, len(dataDic[k])))"
   ]
  }
 ],
 "metadata": {
  "accelerator": "GPU",
  "colab": {
   "collapsed_sections": [],
   "name": "test_.ipynb",
   "provenance": []
  },
  "interpreter": {
   "hash": "c85909c066b39d857071483c78a937d00aa7546f1f52ba3c0924986ff839b8c7"
  },
  "kernelspec": {
   "display_name": "Python 3",
   "language": "python",
   "name": "python3"
  },
  "language_info": {
   "codemirror_mode": {
    "name": "ipython",
    "version": 3
   },
   "file_extension": ".py",
   "mimetype": "text/x-python",
   "name": "python",
   "nbconvert_exporter": "python",
   "pygments_lexer": "ipython3",
   "version": "3.8.8"
  }
 },
 "nbformat": 4,
 "nbformat_minor": 1
}
