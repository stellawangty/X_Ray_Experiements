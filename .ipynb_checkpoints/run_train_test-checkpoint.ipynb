{
 "cells": [
  {
   "cell_type": "code",
   "execution_count": 1,
   "id": "e844e785",
   "metadata": {},
   "outputs": [
    {
     "name": "stdout",
     "output_type": "stream",
     "text": [
      "^C\n"
     ]
    }
   ],
   "source": [
    "!python train.py --train_file PMS_dataset_train.txt \\\n",
    "    --val_file PMS_dataset_val.txt \\\n",
    "    --epochs 1 --batch_size 64"
   ]
  },
  {
   "cell_type": "code",
   "execution_count": 2,
   "id": "5c8244b9",
   "metadata": {},
   "outputs": [
    {
     "name": "stdout",
     "output_type": "stream",
     "text": [
      "Namespace(batch_size=64, checkpoint='output/epoch-1.pth.tar', class_count=14, crop_size=224, test_file='PMS_dataset_test.txt', time_stamp='')\n"
     ]
    },
    {
     "name": "stderr",
     "output_type": "stream",
     "text": [
      "Traceback (most recent call last):\n",
      "  File \"test.py\", line 20, in <module>\n",
      "    ChexnetTrainer.test('',\n",
      "  File \"C:\\111\\111\\ChexnetTrainer.py\", line 403, in test\n",
      "    model.load_state_dict(torch.load(checkpoint)['state_dict'])\n",
      "  File \"C:\\Users\\butou\\Anaconda3\\lib\\site-packages\\torch\\serialization.py\", line 699, in load\n",
      "    with _open_file_like(f, 'rb') as opened_file:\n",
      "  File \"C:\\Users\\butou\\Anaconda3\\lib\\site-packages\\torch\\serialization.py\", line 231, in _open_file_like\n",
      "    return _open_file(name_or_buffer, mode)\n",
      "  File \"C:\\Users\\butou\\Anaconda3\\lib\\site-packages\\torch\\serialization.py\", line 212, in __init__\n",
      "    super(_open_file, self).__init__(open(name, mode))\n",
      "FileNotFoundError: [Errno 2] No such file or directory: 'output/epoch-1.pth.tar'\n"
     ]
    }
   ],
   "source": [
    "!python test.py --test_file PMS_dataset_test.txt \\\n",
    "    --checkpoint output/epoch-1.pth.tar \\\n",
    "    --batch_size 64 "
   ]
  },
  {
   "cell_type": "code",
   "execution_count": null,
   "id": "727541a4",
   "metadata": {},
   "outputs": [],
   "source": []
  }
 ],
 "metadata": {
  "kernelspec": {
   "display_name": "Python 3",
   "language": "python",
   "name": "python3"
  },
  "language_info": {
   "codemirror_mode": {
    "name": "ipython",
    "version": 3
   },
   "file_extension": ".py",
   "mimetype": "text/x-python",
   "name": "python",
   "nbconvert_exporter": "python",
   "pygments_lexer": "ipython3",
   "version": "3.8.8"
  }
 },
 "nbformat": 4,
 "nbformat_minor": 5
}
